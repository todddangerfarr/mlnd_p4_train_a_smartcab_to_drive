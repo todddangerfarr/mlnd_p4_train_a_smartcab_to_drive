{
 "cells": [
  {
   "cell_type": "code",
   "execution_count": 4,
   "metadata": {
    "collapsed": false
   },
   "outputs": [
    {
     "data": {
      "text/html": [
       "<div>\n",
       "<table border=\"1\" class=\"dataframe\">\n",
       "  <thead>\n",
       "    <tr style=\"text-align: right;\">\n",
       "      <th></th>\n",
       "      <th>Start Location</th>\n",
       "      <th>Desination</th>\n",
       "      <th>Deadline</th>\n",
       "      <th>Successful?</th>\n",
       "    </tr>\n",
       "    <tr>\n",
       "      <th>Trial</th>\n",
       "      <th></th>\n",
       "      <th></th>\n",
       "      <th></th>\n",
       "      <th></th>\n",
       "    </tr>\n",
       "  </thead>\n",
       "  <tbody>\n",
       "    <tr>\n",
       "      <th>Trial 0</th>\n",
       "      <td>(4, 1)</td>\n",
       "      <td>(7, 2)</td>\n",
       "      <td>20</td>\n",
       "      <td>No</td>\n",
       "    </tr>\n",
       "    <tr>\n",
       "      <th>Trial 1</th>\n",
       "      <td>(8, 4)</td>\n",
       "      <td>(1, 1)</td>\n",
       "      <td>50</td>\n",
       "      <td>Yes</td>\n",
       "    </tr>\n",
       "    <tr>\n",
       "      <th>Trial 2</th>\n",
       "      <td>(1, 3)</td>\n",
       "      <td>(5, 6)</td>\n",
       "      <td>35</td>\n",
       "      <td>No</td>\n",
       "    </tr>\n",
       "    <tr>\n",
       "      <th>Trial 3</th>\n",
       "      <td>(3, 2)</td>\n",
       "      <td>(5, 6)</td>\n",
       "      <td>30</td>\n",
       "      <td>No</td>\n",
       "    </tr>\n",
       "    <tr>\n",
       "      <th>Trial 4</th>\n",
       "      <td>(3, 4)</td>\n",
       "      <td>(8, 5)</td>\n",
       "      <td>30</td>\n",
       "      <td>No</td>\n",
       "    </tr>\n",
       "  </tbody>\n",
       "</table>\n",
       "</div>"
      ],
      "text/plain": [
       "        Start Location Desination  Deadline Successful?\n",
       "Trial                                                  \n",
       "Trial 0         (4, 1)     (7, 2)        20          No\n",
       "Trial 1         (8, 4)     (1, 1)        50         Yes\n",
       "Trial 2         (1, 3)     (5, 6)        35          No\n",
       "Trial 3         (3, 2)     (5, 6)        30          No\n",
       "Trial 4         (3, 4)     (8, 5)        30          No"
      ]
     },
     "execution_count": 4,
     "metadata": {},
     "output_type": "execute_result"
    }
   ],
   "source": [
    "import pandas as pd\n",
    "\n",
    "dframe = pd.DataFrame.from_csv('./csv_files/gamma_0.85_epsilon_0.6_ep_decay_0.97number_of_times10.csv')\n",
    "dframe.head()"
   ]
  },
  {
   "cell_type": "code",
   "execution_count": 8,
   "metadata": {
    "collapsed": false
   },
   "outputs": [
    {
     "name": "stdout",
     "output_type": "stream",
     "text": [
      "0.37\n"
     ]
    }
   ],
   "source": [
    "total_iterations = len(dframe)\n",
    "success_rate = len(dframe[dframe['Successful?'] == 'Yes'])\n",
    "\n",
    "print success_rate / float(total_iterations)"
   ]
  },
  {
   "cell_type": "code",
   "execution_count": null,
   "metadata": {
    "collapsed": true
   },
   "outputs": [],
   "source": []
  }
 ],
 "metadata": {
  "kernelspec": {
   "display_name": "Python 2",
   "language": "python",
   "name": "python2"
  },
  "language_info": {
   "codemirror_mode": {
    "name": "ipython",
    "version": 2
   },
   "file_extension": ".py",
   "mimetype": "text/x-python",
   "name": "python",
   "nbconvert_exporter": "python",
   "pygments_lexer": "ipython2",
   "version": "2.7.11"
  }
 },
 "nbformat": 4,
 "nbformat_minor": 0
}
