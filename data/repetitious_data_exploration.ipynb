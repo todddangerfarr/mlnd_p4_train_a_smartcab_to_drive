{
 "cells": [
  {
   "cell_type": "markdown",
   "metadata": {},
   "source": [
    "# Repitious Data Exploration for Fixed Gamma, Epsilon and Epsilon Decay Values"
   ]
  },
  {
   "cell_type": "code",
   "execution_count": 8,
   "metadata": {
    "collapsed": false
   },
   "outputs": [
    {
     "data": {
      "text/html": [
       "<div>\n",
       "<table border=\"1\" class=\"dataframe\">\n",
       "  <thead>\n",
       "    <tr style=\"text-align: right;\">\n",
       "      <th></th>\n",
       "      <th>Gamma</th>\n",
       "      <th>Epsilon</th>\n",
       "      <th>Epsilon Decay</th>\n",
       "      <th>Start Location</th>\n",
       "      <th>Desination</th>\n",
       "      <th>Deadline</th>\n",
       "      <th>Successful?</th>\n",
       "    </tr>\n",
       "    <tr>\n",
       "      <th>Trial</th>\n",
       "      <th></th>\n",
       "      <th></th>\n",
       "      <th></th>\n",
       "      <th></th>\n",
       "      <th></th>\n",
       "      <th></th>\n",
       "      <th></th>\n",
       "    </tr>\n",
       "  </thead>\n",
       "  <tbody>\n",
       "    <tr>\n",
       "      <th>Trial 1.0</th>\n",
       "      <td>0.8</td>\n",
       "      <td>0.5</td>\n",
       "      <td>0.99</td>\n",
       "      <td>(6, 1)</td>\n",
       "      <td>(6, 5)</td>\n",
       "      <td>20</td>\n",
       "      <td>No</td>\n",
       "    </tr>\n",
       "    <tr>\n",
       "      <th>Trial 1.1</th>\n",
       "      <td>0.8</td>\n",
       "      <td>0.5</td>\n",
       "      <td>0.99</td>\n",
       "      <td>(2, 6)</td>\n",
       "      <td>(8, 3)</td>\n",
       "      <td>45</td>\n",
       "      <td>Yes</td>\n",
       "    </tr>\n",
       "    <tr>\n",
       "      <th>Trial 1.2</th>\n",
       "      <td>0.8</td>\n",
       "      <td>0.5</td>\n",
       "      <td>0.99</td>\n",
       "      <td>(3, 1)</td>\n",
       "      <td>(2, 4)</td>\n",
       "      <td>20</td>\n",
       "      <td>No</td>\n",
       "    </tr>\n",
       "    <tr>\n",
       "      <th>Trial 1.3</th>\n",
       "      <td>0.8</td>\n",
       "      <td>0.5</td>\n",
       "      <td>0.99</td>\n",
       "      <td>(6, 4)</td>\n",
       "      <td>(3, 1)</td>\n",
       "      <td>30</td>\n",
       "      <td>No</td>\n",
       "    </tr>\n",
       "    <tr>\n",
       "      <th>Trial 1.4</th>\n",
       "      <td>0.8</td>\n",
       "      <td>0.5</td>\n",
       "      <td>0.99</td>\n",
       "      <td>(5, 5)</td>\n",
       "      <td>(6, 1)</td>\n",
       "      <td>25</td>\n",
       "      <td>No</td>\n",
       "    </tr>\n",
       "  </tbody>\n",
       "</table>\n",
       "</div>"
      ],
      "text/plain": [
       "           Gamma  Epsilon  Epsilon Decay Start Location Desination  Deadline  \\\n",
       "Trial                                                                          \n",
       "Trial 1.0    0.8      0.5           0.99         (6, 1)     (6, 5)        20   \n",
       "Trial 1.1    0.8      0.5           0.99         (2, 6)     (8, 3)        45   \n",
       "Trial 1.2    0.8      0.5           0.99         (3, 1)     (2, 4)        20   \n",
       "Trial 1.3    0.8      0.5           0.99         (6, 4)     (3, 1)        30   \n",
       "Trial 1.4    0.8      0.5           0.99         (5, 5)     (6, 1)        25   \n",
       "\n",
       "          Successful?  \n",
       "Trial                  \n",
       "Trial 1.0          No  \n",
       "Trial 1.1         Yes  \n",
       "Trial 1.2          No  \n",
       "Trial 1.3          No  \n",
       "Trial 1.4          No  "
      ]
     },
     "execution_count": 8,
     "metadata": {},
     "output_type": "execute_result"
    }
   ],
   "source": [
    "import pandas as pd\n",
    "\n",
    "file_path = './csv_files/gamma_0.8_epsilon_0.5_ep_decay_0.99_number_of_times_10.csv'\n",
    "\n",
    "dframe = pd.DataFrame.from_csv(file_path)\n",
    "dframe.head()"
   ]
  },
  {
   "cell_type": "markdown",
   "metadata": {},
   "source": [
    "### Total Success Rate across all iterations"
   ]
  },
  {
   "cell_type": "code",
   "execution_count": 11,
   "metadata": {
    "collapsed": false
   },
   "outputs": [
    {
     "name": "stdout",
     "output_type": "stream",
     "text": [
      "Total Success Rate: 46.4%\n"
     ]
    }
   ],
   "source": [
    "def total_success_rate(data_frame):\n",
    "    total_iterations = len(data_frame)\n",
    "    success_rate = len(data_frame[data_frame['Successful?'] == 'Yes'])\n",
    "    \n",
    "    return success_rate / float(total_iterations)\n",
    "\n",
    "print 'Total Success Rate: {}%'.format(total_success_rate(dframe) * 100)"
   ]
  },
  {
   "cell_type": "markdown",
   "metadata": {},
   "source": [
    "### Setup Dataframe dictionary where index points to each iteration"
   ]
  },
  {
   "cell_type": "code",
   "execution_count": 12,
   "metadata": {
    "collapsed": false
   },
   "outputs": [],
   "source": [
    "def data_frame_dictionary(data_frame, file_path):\n",
    "    num_iterations = int(file_path[-6:-4])\n",
    "    index = 0\n",
    "    addition = int(len(data_frame) / float(num_iterations))\n",
    "\n",
    "    dframe_dict = {}\n",
    "\n",
    "    for i in range(num_iterations):\n",
    "        dframe_dict[i] = data_frame[index: index + addition]\n",
    "        index += addition \n",
    "        \n",
    "    return dframe_dict\n",
    "\n",
    "dframe_dict = data_frame_dictionary(dframe, file_path)"
   ]
  },
  {
   "cell_type": "code",
   "execution_count": 13,
   "metadata": {
    "collapsed": false
   },
   "outputs": [],
   "source": [
    "def success_rates_list(data_frame_dict):\n",
    "    success_rates = []\n",
    "    iterations = []\n",
    "    for key, dframe in data_frame_dict.iteritems():\n",
    "        iterations.append(key)\n",
    "        success_rates.append(len(dframe[dframe['Successful?'] == 'Yes']) / float(len(dframe)) * 100)\n",
    "        \n",
    "    return iterations, success_rates\n",
    "        \n",
    "iterations, success_rates = success_rates_list(dframe_dict)"
   ]
  },
  {
   "cell_type": "code",
   "execution_count": 14,
   "metadata": {
    "collapsed": false
   },
   "outputs": [
    {
     "data": {
      "text/plain": [
       "<Container object of 10 artists>"
      ]
     },
     "execution_count": 14,
     "metadata": {},
     "output_type": "execute_result"
    },
    {
     "data": {
      "image/png": "[encoded data removed]",
      "text/plain": [
       "<matplotlib.figure.Figure at 0x73eac18>"
      ]
     },
     "metadata": {},
     "output_type": "display_data"
    }
   ],
   "source": [
    "%matplotlib inline\n",
    "import matplotlib.pyplot as plt\n",
    "import seaborn as sns\n",
    "sns.set_style(\"whitegrid\")\n",
    "\n",
    "plt.figure(figsize=(10,7))\n",
    "plt.suptitle('Iteration vs Success Rate with Gamma: 0.80, Epsilon: 0.50, Epsilon Decay: 0.99', fontsize=16)\n",
    "plt.ylabel('Success Rate %', fontsize=14)\n",
    "plt.xlabel('Iteration #', fontsize=14)\n",
    "plt.bar(iterations, success_rates)"
   ]
  },
  {
   "cell_type": "markdown",
   "metadata": {},
   "source": [
    "### Gamma = 0.7, Epsilon = 0.5, Epsilon Decay = 0.9 - Repeated 10 Times 100 Trials Each"
   ]
  },
  {
   "cell_type": "code",
   "execution_count": 15,
   "metadata": {
    "collapsed": false
   },
   "outputs": [
    {
     "data": {
      "text/html": [
       "<div>\n",
       "<table border=\"1\" class=\"dataframe\">\n",
       "  <thead>\n",
       "    <tr style=\"text-align: right;\">\n",
       "      <th></th>\n",
       "      <th>Gamma</th>\n",
       "      <th>Epsilon</th>\n",
       "      <th>Epsilon Decay</th>\n",
       "      <th>Start Location</th>\n",
       "      <th>Desination</th>\n",
       "      <th>Deadline</th>\n",
       "      <th>Successful?</th>\n",
       "    </tr>\n",
       "    <tr>\n",
       "      <th>Trial</th>\n",
       "      <th></th>\n",
       "      <th></th>\n",
       "      <th></th>\n",
       "      <th></th>\n",
       "      <th></th>\n",
       "      <th></th>\n",
       "      <th></th>\n",
       "    </tr>\n",
       "  </thead>\n",
       "  <tbody>\n",
       "    <tr>\n",
       "      <th>Trial 1.0</th>\n",
       "      <td>0.7</td>\n",
       "      <td>0.5</td>\n",
       "      <td>0.9</td>\n",
       "      <td>(4, 1)</td>\n",
       "      <td>(1, 6)</td>\n",
       "      <td>40</td>\n",
       "      <td>Yes</td>\n",
       "    </tr>\n",
       "    <tr>\n",
       "      <th>Trial 1.1</th>\n",
       "      <td>0.7</td>\n",
       "      <td>0.5</td>\n",
       "      <td>0.9</td>\n",
       "      <td>(5, 2)</td>\n",
       "      <td>(3, 5)</td>\n",
       "      <td>25</td>\n",
       "      <td>Yes</td>\n",
       "    </tr>\n",
       "    <tr>\n",
       "      <th>Trial 1.2</th>\n",
       "      <td>0.7</td>\n",
       "      <td>0.5</td>\n",
       "      <td>0.9</td>\n",
       "      <td>(6, 4)</td>\n",
       "      <td>(8, 1)</td>\n",
       "      <td>25</td>\n",
       "      <td>Yes</td>\n",
       "    </tr>\n",
       "    <tr>\n",
       "      <th>Trial 1.3</th>\n",
       "      <td>0.7</td>\n",
       "      <td>0.5</td>\n",
       "      <td>0.9</td>\n",
       "      <td>(7, 2)</td>\n",
       "      <td>(1, 3)</td>\n",
       "      <td>35</td>\n",
       "      <td>No</td>\n",
       "    </tr>\n",
       "    <tr>\n",
       "      <th>Trial 1.4</th>\n",
       "      <td>0.7</td>\n",
       "      <td>0.5</td>\n",
       "      <td>0.9</td>\n",
       "      <td>(7, 4)</td>\n",
       "      <td>(3, 5)</td>\n",
       "      <td>25</td>\n",
       "      <td>Yes</td>\n",
       "    </tr>\n",
       "  </tbody>\n",
       "</table>\n",
       "</div>"
      ],
      "text/plain": [
       "           Gamma  Epsilon  Epsilon Decay Start Location Desination  Deadline  \\\n",
       "Trial                                                                          \n",
       "Trial 1.0    0.7      0.5            0.9         (4, 1)     (1, 6)        40   \n",
       "Trial 1.1    0.7      0.5            0.9         (5, 2)     (3, 5)        25   \n",
       "Trial 1.2    0.7      0.5            0.9         (6, 4)     (8, 1)        25   \n",
       "Trial 1.3    0.7      0.5            0.9         (7, 2)     (1, 3)        35   \n",
       "Trial 1.4    0.7      0.5            0.9         (7, 4)     (3, 5)        25   \n",
       "\n",
       "          Successful?  \n",
       "Trial                  \n",
       "Trial 1.0         Yes  \n",
       "Trial 1.1         Yes  \n",
       "Trial 1.2         Yes  \n",
       "Trial 1.3          No  \n",
       "Trial 1.4         Yes  "
      ]
     },
     "execution_count": 15,
     "metadata": {},
     "output_type": "execute_result"
    }
   ],
   "source": [
    "file_path_2 = './csv_files/gamma_0.7_epsilon_0.5_ep_decay_0.9_number_of_times_10.csv'\n",
    "\n",
    "dframe_2 = pd.DataFrame.from_csv(file_path_2)\n",
    "dframe_2.head()"
   ]
  },
  {
   "cell_type": "code",
   "execution_count": 18,
   "metadata": {
    "collapsed": false
   },
   "outputs": [
    {
     "name": "stdout",
     "output_type": "stream",
     "text": [
      "Total Success Rate: 58.1%\n"
     ]
    }
   ],
   "source": [
    "print 'Total Success Rate: {}%'.format(total_success_rate(dframe_2) * 100) "
   ]
  },
  {
   "cell_type": "code",
   "execution_count": 20,
   "metadata": {
    "collapsed": false
   },
   "outputs": [],
   "source": [
    "iterations, successes = success_rates_list(data_frame_dictionary(dframe_2, file_path_2))"
   ]
  },
  {
   "cell_type": "code",
   "execution_count": 21,
   "metadata": {
    "collapsed": false
   },
   "outputs": [
    {
     "data": {
      "text/plain": [
       "<Container object of 10 artists>"
      ]
     },
     "execution_count": 21,
     "metadata": {},
     "output_type": "execute_result"
    },
    {
     "data": {
      "image/png": "[encoded data removed]",
      "text/plain": [
       "<matplotlib.figure.Figure at 0x9dac1d0>"
      ]
     },
     "metadata": {},
     "output_type": "display_data"
    }
   ],
   "source": [
    "plt.figure(figsize=(10,7))\n",
    "plt.suptitle('Iteration vs Success Rate with Gamma: 0.70, Epsilon: 0.50, Epsilon Decay: 0.90', fontsize=16)\n",
    "plt.ylabel('Success Rate %', fontsize=14)\n",
    "plt.xlabel('Iteration #', fontsize=14)\n",
    "plt.bar(iterations, successes)"
   ]
  },
  {
   "cell_type": "markdown",
   "metadata": {},
   "source": [
    "### Gamma = 0.5, Epsilon = 0.5, Epsilon Decay = 0.99 - Repeated 10 Times 100 Trials Each"
   ]
  },
  {
   "cell_type": "code",
   "execution_count": 22,
   "metadata": {
    "collapsed": false
   },
   "outputs": [
    {
     "data": {
      "text/html": [
       "<div>\n",
       "<table border=\"1\" class=\"dataframe\">\n",
       "  <thead>\n",
       "    <tr style=\"text-align: right;\">\n",
       "      <th></th>\n",
       "      <th>Gamma</th>\n",
       "      <th>Epsilon</th>\n",
       "      <th>Epsilon Decay</th>\n",
       "      <th>Start Location</th>\n",
       "      <th>Desination</th>\n",
       "      <th>Deadline</th>\n",
       "      <th>Successful?</th>\n",
       "    </tr>\n",
       "    <tr>\n",
       "      <th>Trial</th>\n",
       "      <th></th>\n",
       "      <th></th>\n",
       "      <th></th>\n",
       "      <th></th>\n",
       "      <th></th>\n",
       "      <th></th>\n",
       "      <th></th>\n",
       "    </tr>\n",
       "  </thead>\n",
       "  <tbody>\n",
       "    <tr>\n",
       "      <th>Trial 1.0</th>\n",
       "      <td>0.5</td>\n",
       "      <td>0.5</td>\n",
       "      <td>0.99</td>\n",
       "      <td>(6, 5)</td>\n",
       "      <td>(3, 3)</td>\n",
       "      <td>25</td>\n",
       "      <td>No</td>\n",
       "    </tr>\n",
       "    <tr>\n",
       "      <th>Trial 1.1</th>\n",
       "      <td>0.5</td>\n",
       "      <td>0.5</td>\n",
       "      <td>0.99</td>\n",
       "      <td>(3, 3)</td>\n",
       "      <td>(7, 3)</td>\n",
       "      <td>20</td>\n",
       "      <td>No</td>\n",
       "    </tr>\n",
       "    <tr>\n",
       "      <th>Trial 1.2</th>\n",
       "      <td>0.5</td>\n",
       "      <td>0.5</td>\n",
       "      <td>0.99</td>\n",
       "      <td>(4, 3)</td>\n",
       "      <td>(2, 6)</td>\n",
       "      <td>25</td>\n",
       "      <td>Yes</td>\n",
       "    </tr>\n",
       "    <tr>\n",
       "      <th>Trial 1.3</th>\n",
       "      <td>0.5</td>\n",
       "      <td>0.5</td>\n",
       "      <td>0.99</td>\n",
       "      <td>(6, 1)</td>\n",
       "      <td>(5, 6)</td>\n",
       "      <td>30</td>\n",
       "      <td>Yes</td>\n",
       "    </tr>\n",
       "    <tr>\n",
       "      <th>Trial 1.4</th>\n",
       "      <td>0.5</td>\n",
       "      <td>0.5</td>\n",
       "      <td>0.99</td>\n",
       "      <td>(2, 2)</td>\n",
       "      <td>(1, 5)</td>\n",
       "      <td>20</td>\n",
       "      <td>No</td>\n",
       "    </tr>\n",
       "  </tbody>\n",
       "</table>\n",
       "</div>"
      ],
      "text/plain": [
       "           Gamma  Epsilon  Epsilon Decay Start Location Desination  Deadline  \\\n",
       "Trial                                                                          \n",
       "Trial 1.0    0.5      0.5           0.99         (6, 5)     (3, 3)        25   \n",
       "Trial 1.1    0.5      0.5           0.99         (3, 3)     (7, 3)        20   \n",
       "Trial 1.2    0.5      0.5           0.99         (4, 3)     (2, 6)        25   \n",
       "Trial 1.3    0.5      0.5           0.99         (6, 1)     (5, 6)        30   \n",
       "Trial 1.4    0.5      0.5           0.99         (2, 2)     (1, 5)        20   \n",
       "\n",
       "          Successful?  \n",
       "Trial                  \n",
       "Trial 1.0          No  \n",
       "Trial 1.1          No  \n",
       "Trial 1.2         Yes  \n",
       "Trial 1.3         Yes  \n",
       "Trial 1.4          No  "
      ]
     },
     "execution_count": 22,
     "metadata": {},
     "output_type": "execute_result"
    }
   ],
   "source": [
    "file_path_3 = './csv_files/gamma_0.5_epsilon_0.5_ep_decay_0.99_number_of_times_10.csv'\n",
    "\n",
    "dframe_3 = pd.DataFrame.from_csv(file_path_3)\n",
    "dframe_3.head()"
   ]
  },
  {
   "cell_type": "code",
   "execution_count": 23,
   "metadata": {
    "collapsed": false
   },
   "outputs": [
    {
     "name": "stdout",
     "output_type": "stream",
     "text": [
      "Total Success Rate: 85.0%\n"
     ]
    }
   ],
   "source": [
    "print 'Total Success Rate: {}%'.format(total_success_rate(dframe_3) * 100) "
   ]
  },
  {
   "cell_type": "code",
   "execution_count": 24,
   "metadata": {
    "collapsed": true
   },
   "outputs": [],
   "source": [
    "iterations, successes = success_rates_list(data_frame_dictionary(dframe_3, file_path_3))"
   ]
  },
  {
   "cell_type": "code",
   "execution_count": 25,
   "metadata": {
    "collapsed": false
   },
   "outputs": [
    {
     "data": {
      "text/plain": [
       "<Container object of 10 artists>"
      ]
     },
     "execution_count": 25,
     "metadata": {},
     "output_type": "execute_result"
    },
    {
     "data": {
      "image/png": "[encoded data removed]",
      "text/plain": [
       "<matplotlib.figure.Figure at 0x9b84978>"
      ]
     },
     "metadata": {},
     "output_type": "display_data"
    }
   ],
   "source": [
    "plt.figure(figsize=(10,7))\n",
    "plt.suptitle('Iteration vs Success Rate with Gamma: 0.50, Epsilon: 0.50, Epsilon Decay: 0.99', fontsize=16)\n",
    "plt.ylabel('Success Rate %', fontsize=14)\n",
    "plt.xlabel('Iteration #', fontsize=14)\n",
    "plt.bar(iterations, successes)"
   ]
  }
 ],
 "metadata": {
  "kernelspec": {
   "display_name": "Python 2",
   "language": "python",
   "name": "python2"
  },
  "language_info": {
   "codemirror_mode": {
    "name": "ipython",
    "version": 2
   },
   "file_extension": ".py",
   "mimetype": "text/x-python",
   "name": "python",
   "nbconvert_exporter": "python",
   "pygments_lexer": "ipython2",
   "version": "2.7.11"
  }
 },
 "nbformat": 4,
 "nbformat_minor": 0
}
