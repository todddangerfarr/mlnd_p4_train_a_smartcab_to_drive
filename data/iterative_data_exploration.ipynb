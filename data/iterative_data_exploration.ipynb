{
 "cells": [
  {
   "cell_type": "markdown",
   "metadata": {},
   "source": [
    "## Data Exploration for various Gamma, Epsilon, and Epsilon Decay Values\n",
    "This data was generated iteratively by running various combination of these 3 values through 100 trails on the Smartcab Agent using Q-Learning.  Originally I was going to include alpha values as well, but changed to a time dependent alpha decay so that Q_hat converges to Q. "
   ]
  },
  {
   "cell_type": "code",
   "execution_count": 1,
   "metadata": {
    "collapsed": false
   },
   "outputs": [
    {
     "data": {
      "text/html": [
       "<div>\n",
       "<table border=\"1\" class=\"dataframe\">\n",
       "  <thead>\n",
       "    <tr style=\"text-align: right;\">\n",
       "      <th></th>\n",
       "      <th>Gamma</th>\n",
       "      <th>Epsilon</th>\n",
       "      <th>Epsilon Decay</th>\n",
       "      <th>Start Location</th>\n",
       "      <th>Desination</th>\n",
       "      <th>Deadline</th>\n",
       "      <th>Successful?</th>\n",
       "    </tr>\n",
       "    <tr>\n",
       "      <th>Trial</th>\n",
       "      <th></th>\n",
       "      <th></th>\n",
       "      <th></th>\n",
       "      <th></th>\n",
       "      <th></th>\n",
       "      <th></th>\n",
       "      <th></th>\n",
       "    </tr>\n",
       "  </thead>\n",
       "  <tbody>\n",
       "    <tr>\n",
       "      <th>Trial 1.0</th>\n",
       "      <td>0.8</td>\n",
       "      <td>0.5</td>\n",
       "      <td>0.95</td>\n",
       "      <td>(4, 5)</td>\n",
       "      <td>(7, 4)</td>\n",
       "      <td>20</td>\n",
       "      <td>No</td>\n",
       "    </tr>\n",
       "    <tr>\n",
       "      <th>Trial 1.1</th>\n",
       "      <td>0.8</td>\n",
       "      <td>0.5</td>\n",
       "      <td>0.95</td>\n",
       "      <td>(2, 5)</td>\n",
       "      <td>(5, 4)</td>\n",
       "      <td>20</td>\n",
       "      <td>No</td>\n",
       "    </tr>\n",
       "    <tr>\n",
       "      <th>Trial 1.2</th>\n",
       "      <td>0.8</td>\n",
       "      <td>0.5</td>\n",
       "      <td>0.95</td>\n",
       "      <td>(8, 4)</td>\n",
       "      <td>(5, 5)</td>\n",
       "      <td>20</td>\n",
       "      <td>Yes</td>\n",
       "    </tr>\n",
       "    <tr>\n",
       "      <th>Trial 1.3</th>\n",
       "      <td>0.8</td>\n",
       "      <td>0.5</td>\n",
       "      <td>0.95</td>\n",
       "      <td>(5, 4)</td>\n",
       "      <td>(7, 2)</td>\n",
       "      <td>20</td>\n",
       "      <td>No</td>\n",
       "    </tr>\n",
       "    <tr>\n",
       "      <th>Trial 1.4</th>\n",
       "      <td>0.8</td>\n",
       "      <td>0.5</td>\n",
       "      <td>0.95</td>\n",
       "      <td>(7, 6)</td>\n",
       "      <td>(7, 1)</td>\n",
       "      <td>25</td>\n",
       "      <td>Yes</td>\n",
       "    </tr>\n",
       "  </tbody>\n",
       "</table>\n",
       "</div>"
      ],
      "text/plain": [
       "           Gamma  Epsilon  Epsilon Decay Start Location Desination  Deadline  \\\n",
       "Trial                                                                          \n",
       "Trial 1.0    0.8      0.5           0.95         (4, 5)     (7, 4)        20   \n",
       "Trial 1.1    0.8      0.5           0.95         (2, 5)     (5, 4)        20   \n",
       "Trial 1.2    0.8      0.5           0.95         (8, 4)     (5, 5)        20   \n",
       "Trial 1.3    0.8      0.5           0.95         (5, 4)     (7, 2)        20   \n",
       "Trial 1.4    0.8      0.5           0.95         (7, 6)     (7, 1)        25   \n",
       "\n",
       "          Successful?  \n",
       "Trial                  \n",
       "Trial 1.0          No  \n",
       "Trial 1.1          No  \n",
       "Trial 1.2         Yes  \n",
       "Trial 1.3          No  \n",
       "Trial 1.4         Yes  "
      ]
     },
     "execution_count": 1,
     "metadata": {},
     "output_type": "execute_result"
    }
   ],
   "source": [
    "import os\n",
    "import pandas as pd\n",
    "\n",
    "data_frame_dict = {}\n",
    "\n",
    "# get text files \n",
    "for index, csv_file in enumerate(os.listdir('./csv_files/')):\n",
    "    if csv_file.endswith(\".csv\"):\n",
    "        data_frame_dict[index] = pd.DataFrame.from_csv('./csv_files/' + csv_file)\n",
    "\n",
    "# check dataframes were loaded in dictionary\n",
    "data_frame_dict[0].head()"
   ]
  },
  {
   "cell_type": "code",
   "execution_count": 2,
   "metadata": {
    "collapsed": false
   },
   "outputs": [
    {
     "data": {
      "text/html": [
       "<div>\n",
       "<table border=\"1\" class=\"dataframe\">\n",
       "  <thead>\n",
       "    <tr style=\"text-align: right;\">\n",
       "      <th></th>\n",
       "      <th>Gamma</th>\n",
       "      <th>Epsilon</th>\n",
       "      <th>Epsilon_Decay</th>\n",
       "      <th>Successes_0</th>\n",
       "    </tr>\n",
       "  </thead>\n",
       "  <tbody>\n",
       "    <tr>\n",
       "      <th>0</th>\n",
       "      <td>0.8</td>\n",
       "      <td>0.5</td>\n",
       "      <td>0.95</td>\n",
       "      <td>73.0</td>\n",
       "    </tr>\n",
       "    <tr>\n",
       "      <th>1</th>\n",
       "      <td>0.8</td>\n",
       "      <td>0.5</td>\n",
       "      <td>0.96</td>\n",
       "      <td>3.0</td>\n",
       "    </tr>\n",
       "    <tr>\n",
       "      <th>2</th>\n",
       "      <td>0.8</td>\n",
       "      <td>0.5</td>\n",
       "      <td>0.97</td>\n",
       "      <td>2.0</td>\n",
       "    </tr>\n",
       "    <tr>\n",
       "      <th>3</th>\n",
       "      <td>0.8</td>\n",
       "      <td>0.5</td>\n",
       "      <td>0.98</td>\n",
       "      <td>53.0</td>\n",
       "    </tr>\n",
       "    <tr>\n",
       "      <th>4</th>\n",
       "      <td>0.8</td>\n",
       "      <td>0.5</td>\n",
       "      <td>0.99</td>\n",
       "      <td>0.0</td>\n",
       "    </tr>\n",
       "  </tbody>\n",
       "</table>\n",
       "</div>"
      ],
      "text/plain": [
       "   Gamma  Epsilon  Epsilon_Decay  Successes_0\n",
       "0    0.8      0.5           0.95         73.0\n",
       "1    0.8      0.5           0.96          3.0\n",
       "2    0.8      0.5           0.97          2.0\n",
       "3    0.8      0.5           0.98         53.0\n",
       "4    0.8      0.5           0.99          0.0"
      ]
     },
     "execution_count": 2,
     "metadata": {},
     "output_type": "execute_result"
    }
   ],
   "source": [
    "from itertools import product\n",
    "\n",
    "def success_frame_dictionary(dictionary):\n",
    "    success_frame_dict = {}\n",
    "    \n",
    "    # get lists of every unique Gamma, Epsilon and Epsilon Decay value\n",
    "    gamma_values = [round(x, 2) for x in data_frame_dict[0]['Gamma'].unique()]\n",
    "    epsilon_values = [round(x, 2) for x in data_frame_dict[0]['Epsilon'].unique()]\n",
    "    epsilon_decay_values = [round(x, 2) for x in data_frame_dict[0]['Epsilon Decay'].unique()]\n",
    "    \n",
    "    # columns to track \n",
    "    columns_to_track = ['Gamma', 'Epsilon', 'Epsilon Decay']\n",
    "\n",
    "    for key, dframe in dictionary.iteritems():\n",
    "        \n",
    "        # create a new empty dataframe \n",
    "        success_frame = pd.DataFrame()\n",
    "        \n",
    "        # for every combination of Gamma, Epsilon, and Epsilon Decay Count Successes \n",
    "        for combination in product(gamma_values, epsilon_values, epsilon_decay_values):\n",
    "            num_successes =  len(dframe[(dframe['Gamma'] == combination[0]) & (dframe['Epsilon'] == combination[1]) & \n",
    "                                (dframe['Epsilon Decay'] == combination[2]) & (dframe['Successful?'] == 'Yes')])\n",
    "        \n",
    "            # initalize empty row \n",
    "            row = [] \n",
    "            row.append(combination[0]) # append gamma\n",
    "            row.append(combination[1]) # append epsilon\n",
    "            row.append(combination[2]) # append epsilon decay\n",
    "            row.append(num_successes) # append number of successes \n",
    "            success_frame = success_frame.append(pd.Series(row), ignore_index=True) #add row to success frame \n",
    "\n",
    "        columns_string = 'Gamma Epsilon Epsilon_Decay Successes_' + str(key)\n",
    "        success_frame.columns = columns_string.split(' ') # add column names \n",
    "        success_frame_dict[key] = success_frame\n",
    "    \n",
    "    return success_frame_dict\n",
    "\n",
    "success_frame_dict = success_frame_dictionary(data_frame_dict)\n",
    "success_frame_dict[0].head()"
   ]
  },
  {
   "cell_type": "code",
   "execution_count": 3,
   "metadata": {
    "collapsed": false
   },
   "outputs": [
    {
     "data": {
      "text/html": [
       "<div>\n",
       "<table border=\"1\" class=\"dataframe\">\n",
       "  <thead>\n",
       "    <tr style=\"text-align: right;\">\n",
       "      <th></th>\n",
       "      <th></th>\n",
       "      <th></th>\n",
       "      <th>Successes_0</th>\n",
       "    </tr>\n",
       "    <tr>\n",
       "      <th>Gamma</th>\n",
       "      <th>Epsilon</th>\n",
       "      <th>Epsilon_Decay</th>\n",
       "      <th></th>\n",
       "    </tr>\n",
       "  </thead>\n",
       "  <tbody>\n",
       "    <tr>\n",
       "      <th rowspan=\"5\" valign=\"top\">0.8</th>\n",
       "      <th rowspan=\"5\" valign=\"top\">0.5</th>\n",
       "      <th>0.95</th>\n",
       "      <td>73.0</td>\n",
       "    </tr>\n",
       "    <tr>\n",
       "      <th>0.96</th>\n",
       "      <td>3.0</td>\n",
       "    </tr>\n",
       "    <tr>\n",
       "      <th>0.97</th>\n",
       "      <td>2.0</td>\n",
       "    </tr>\n",
       "    <tr>\n",
       "      <th>0.98</th>\n",
       "      <td>53.0</td>\n",
       "    </tr>\n",
       "    <tr>\n",
       "      <th>0.99</th>\n",
       "      <td>0.0</td>\n",
       "    </tr>\n",
       "  </tbody>\n",
       "</table>\n",
       "</div>"
      ],
      "text/plain": [
       "                             Successes_0\n",
       "Gamma Epsilon Epsilon_Decay             \n",
       "0.8   0.5     0.95                  73.0\n",
       "              0.96                   3.0\n",
       "              0.97                   2.0\n",
       "              0.98                  53.0\n",
       "              0.99                   0.0"
      ]
     },
     "execution_count": 3,
     "metadata": {},
     "output_type": "execute_result"
    }
   ],
   "source": [
    "def index_dataframes(dictionary):\n",
    "    indexed_dframe_dict = {}\n",
    "    for key, dframe in dictionary.iteritems():\n",
    "        dframe_indexed = dframe.set_index(['Gamma', 'Epsilon', 'Epsilon_Decay'])\n",
    "        indexed_dframe_dict[key] = dframe_indexed\n",
    "        \n",
    "    return indexed_dframe_dict\n",
    "\n",
    "indexed_dataframe_dict = index_dataframes(success_frame_dict)\n",
    "indexed_dataframe_dict[0].head()"
   ]
  },
  {
   "cell_type": "markdown",
   "metadata": {},
   "source": [
    "### Plotting the Data "
   ]
  },
  {
   "cell_type": "code",
   "execution_count": 11,
   "metadata": {
    "collapsed": false,
    "scrolled": false
   },
   "outputs": [
    {
     "data": {
      "text/plain": [
       "<matplotlib.axes._subplots.AxesSubplot at 0xad7ddd8>"
      ]
     },
     "execution_count": 11,
     "metadata": {},
     "output_type": "execute_result"
    },
    {
     "data": {
      "image/png": "[encoded data removed]",
      "text/plain": [
       "<matplotlib.figure.Figure at 0xaccee48>"
      ]
     },
     "metadata": {},
     "output_type": "display_data"
    }
   ],
   "source": [
    "%matplotlib inline\n",
    "import matplotlib.pyplot as plt\n",
    "import seaborn as sns\n",
    "import numpy as np\n",
    "\n",
    "plt.rcParams['figure.figsize'] = (20, 10) \n",
    "\n",
    "for key, dataframe in indexed_dataframe_dict.iteritems():\n",
    "    if key == 0:\n",
    "        joined_frame = dataframe\n",
    "    else:\n",
    "        joined_frame = joined_frame.join(dataframe)\n",
    "        \n",
    "joined_frame.head()\n",
    "\n",
    "joined_frame.plot(kind='bar', ylim=(0,120))"
   ]
  },
  {
   "cell_type": "markdown",
   "metadata": {},
   "source": [
    "The clear winner in this case is Gamma = 0.85, Epsilon = 0.6, and Epsilon Decay = 0.97"
   ]
  },
  {
   "cell_type": "markdown",
   "metadata": {},
   "source": [
    "### Box plots vs individual variables"
   ]
  },
  {
   "cell_type": "markdown",
   "metadata": {},
   "source": [
    "#### Gamma vs Successes Plot"
   ]
  },
  {
   "cell_type": "code",
   "execution_count": 12,
   "metadata": {
    "collapsed": false
   },
   "outputs": [
    {
     "data": {
      "text/plain": [
       "<matplotlib.axes._subplots.AxesSubplot at 0xb4768d0>"
      ]
     },
     "execution_count": 12,
     "metadata": {},
     "output_type": "execute_result"
    },
    {
     "data": {
      "image/png": "[encoded data removed]",
      "text/plain": [
       "<matplotlib.figure.Figure at 0xb3a06a0>"
      ]
     },
     "metadata": {},
     "output_type": "display_data"
    }
   ],
   "source": [
    "plt.rcParams['figure.figsize'] = (10, 7.0)\n",
    "plt.suptitle('Gamma (Future Reward Multiplier) Value vs Successes', fontsize=14)\n",
    "sns.boxplot(success_frame_dict[0]['Gamma'], success_frame_dict[0]['Successes_0'], palette=\"Set3\", width=0.5)\n",
    "sns.swarmplot(success_frame_dict[0]['Gamma'], success_frame_dict[0]['Successes_0'], color=\".25\")"
   ]
  },
  {
   "cell_type": "code",
   "execution_count": 13,
   "metadata": {
    "collapsed": false
   },
   "outputs": [
    {
     "data": {
      "text/plain": [
       "<matplotlib.axes._subplots.AxesSubplot at 0xac86208>"
      ]
     },
     "execution_count": 13,
     "metadata": {},
     "output_type": "execute_result"
    },
    {
     "data": {
      "image/png": "[encoded data removed]",
      "text/plain": [
       "<matplotlib.figure.Figure at 0xb55c978>"
      ]
     },
     "metadata": {},
     "output_type": "display_data"
    }
   ],
   "source": [
    "plt.rcParams['figure.figsize'] = (10, 7.0)\n",
    "plt.suptitle('Gamma (Future Reward Multiplier) Value vs Successes', fontsize=14)\n",
    "sns.boxplot(success_frame_dict[1]['Gamma'], success_frame_dict[1]['Successes_1'], palette=\"Set3\", width=0.5)\n",
    "sns.swarmplot(success_frame_dict[1]['Gamma'], success_frame_dict[1]['Successes_1'], color=\".25\")"
   ]
  },
  {
   "cell_type": "markdown",
   "metadata": {},
   "source": [
    "Indvidual inspection shows that a Gamma Value of 0.85 seems to be the best performer (average) accross all Gamma values.  However the Standard Deviation is quite large, so my plan is to also look at Gamma of 0.80 which has a little tighter box plot and the second highest average if the performance from the winning combo is not consistent."
   ]
  },
  {
   "cell_type": "markdown",
   "metadata": {},
   "source": [
    "#### Epsilon Vs Successes Plot"
   ]
  },
  {
   "cell_type": "code",
   "execution_count": null,
   "metadata": {
    "collapsed": false
   },
   "outputs": [],
   "source": [
    "plt.suptitle('Epsilon (Greedy Exploration) Value vs Successes', fontsize=14)\n",
    "sns.boxplot(success_frame['Epsilon'], success_frame['Successes'], palette=\"Set3\", width=0.5)\n",
    "sns.swarmplot(success_frame['Epsilon'], success_frame['Successes'], color=\".25\")"
   ]
  },
  {
   "cell_type": "markdown",
   "metadata": {},
   "source": [
    "The highest average Epsilon value is 0.4, but since the max value was 0.6 I'm going to explore this value if the winning combination is not consistent "
   ]
  },
  {
   "cell_type": "markdown",
   "metadata": {},
   "source": [
    "#### Epsilon Decay vs Successes Plot"
   ]
  },
  {
   "cell_type": "code",
   "execution_count": null,
   "metadata": {
    "collapsed": false
   },
   "outputs": [],
   "source": [
    "plt.suptitle('Epsilon Decay (Exploration vs Exploitation) Value vs Successes', fontsize=14)\n",
    "sns.boxplot(success_frame['Epsilon Decay'], success_frame['Successes'], palette=\"Set3\", width=0.5)\n",
    "sns.swarmplot(success_frame['Epsilon Decay'], success_frame['Successes'], color=\".25\")"
   ]
  },
  {
   "cell_type": "markdown",
   "metadata": {},
   "source": [
    "The epsilon decay value with the highest average in this case in 0.97 with 0.99 also showing promising results in the 60-80 successes range. "
   ]
  }
 ],
 "metadata": {
  "kernelspec": {
   "display_name": "Python 2",
   "language": "python",
   "name": "python2"
  },
  "language_info": {
   "codemirror_mode": {
    "name": "ipython",
    "version": 2
   },
   "file_extension": ".py",
   "mimetype": "text/x-python",
   "name": "python",
   "nbconvert_exporter": "python",
   "pygments_lexer": "ipython2",
   "version": "2.7.11"
  }
 },
 "nbformat": 4,
 "nbformat_minor": 0
}
